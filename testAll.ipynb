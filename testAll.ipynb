{
 "cells": [
  {
   "cell_type": "code",
   "execution_count": 1,
   "metadata": {},
   "outputs": [],
   "source": [
    "import numpy as np \n",
    "import pandas as pd\n",
    "import matplotlib.pylab as plt\n",
    "\n",
    "from sklearn.feature_selection import (VarianceThreshold, RFE, SelectFromModel)\n",
    "from sklearn.svm import (SVC, LinearSVC)\n",
    "from sklearn.linear_model import (LogisticRegression)\n",
    "from sklearn.metrics import (roc_curve, roc_auc_score, precision_recall_curve, auc, make_scorer, \n",
    "                             recall_score, accuracy_score, precision_score, confusion_matrix)"
   ]
  },
  {
   "cell_type": "markdown",
   "metadata": {},
   "source": [
    "# Import Data\n",
    "<br>\n",
    "The data contain bacteria counts from all taxonomic levels (i.e. phylum, class, order, family, genus, species) as features for each patient. "
   ]
  },
  {
   "cell_type": "code",
   "execution_count": 2,
   "metadata": {},
   "outputs": [],
   "source": [
    "bacteria_data = pd.read_csv(\"C:/Users/Jennifer Chen/Documents/course documents/spring 2020/ibd project/data/bacteria_data.csv\")"
   ]
  },
  {
   "cell_type": "code",
   "execution_count": 3,
   "metadata": {},
   "outputs": [
    {
     "name": "stdout",
     "output_type": "stream",
     "text": [
      "(84, 13590)\n"
     ]
    },
    {
     "data": {
      "text/html": [
       "<div>\n",
       "<style scoped>\n",
       "    .dataframe tbody tr th:only-of-type {\n",
       "        vertical-align: middle;\n",
       "    }\n",
       "\n",
       "    .dataframe tbody tr th {\n",
       "        vertical-align: top;\n",
       "    }\n",
       "\n",
       "    .dataframe thead th {\n",
       "        text-align: right;\n",
       "    }\n",
       "</style>\n",
       "<table border=\"1\" class=\"dataframe\">\n",
       "  <thead>\n",
       "    <tr style=\"text-align: right;\">\n",
       "      <th></th>\n",
       "      <th>Firmicutes.Clostridia.Clostridiales.Lachnospiraceae.Roseburia.Species_2</th>\n",
       "      <th>Firmicutes.Clostridia.Clostridiales.Lachnospiraceae.Roseburia.Species_3</th>\n",
       "      <th>Firmicutes.Clostridia.Clostridiales.Lachnospiraceae.Roseburia.Species_4</th>\n",
       "      <th>Firmicutes.Clostridia.Clostridiales.Lachnospiraceae.Roseburia.Species_6</th>\n",
       "      <th>Firmicutes.Clostridia.Clostridiales.Lachnospiraceae.Roseburia.Species_7</th>\n",
       "      <th>Firmicutes.Clostridia.Clostridiales.Lachnospiraceae.Roseburia.Species_8</th>\n",
       "      <th>Firmicutes.Clostridia.Clostridiales.Lachnospiraceae.Roseburia.Species_11</th>\n",
       "      <th>Firmicutes.Clostridia.Clostridiales.Lachnospiraceae.Roseburia.Species_14</th>\n",
       "      <th>Firmicutes.Clostridia.Clostridiales.Lachnospiraceae.Roseburia.Species_17</th>\n",
       "      <th>Firmicutes.Clostridia.Clostridiales.Lachnospiraceae.Roseburia.Species_23</th>\n",
       "      <th>...</th>\n",
       "      <th>Bacteroidetes.Flavobacteriia.1</th>\n",
       "      <th>Firmicutes.Negativicutes.1</th>\n",
       "      <th>Fusobacteria.Fusobacteriia.1</th>\n",
       "      <th>Firmicutes.Clostridia.1</th>\n",
       "      <th>Recurrence</th>\n",
       "      <th>Aerobic</th>\n",
       "      <th>Anaerobic</th>\n",
       "      <th>Facultative Anaerobic Microaerophilic</th>\n",
       "      <th>Obligate Aerobic</th>\n",
       "      <th>Obligate Anaerobic</th>\n",
       "    </tr>\n",
       "    <tr>\n",
       "      <th>SampleID</th>\n",
       "      <th></th>\n",
       "      <th></th>\n",
       "      <th></th>\n",
       "      <th></th>\n",
       "      <th></th>\n",
       "      <th></th>\n",
       "      <th></th>\n",
       "      <th></th>\n",
       "      <th></th>\n",
       "      <th></th>\n",
       "      <th></th>\n",
       "      <th></th>\n",
       "      <th></th>\n",
       "      <th></th>\n",
       "      <th></th>\n",
       "      <th></th>\n",
       "      <th></th>\n",
       "      <th></th>\n",
       "      <th></th>\n",
       "      <th></th>\n",
       "      <th></th>\n",
       "    </tr>\n",
       "  </thead>\n",
       "  <tbody>\n",
       "    <tr>\n",
       "      <th>X1122.CD.NI.ileum.WashU</th>\n",
       "      <td>0</td>\n",
       "      <td>0</td>\n",
       "      <td>0</td>\n",
       "      <td>0</td>\n",
       "      <td>0</td>\n",
       "      <td>0.0</td>\n",
       "      <td>0</td>\n",
       "      <td>0.000000</td>\n",
       "      <td>0</td>\n",
       "      <td>0.0</td>\n",
       "      <td>...</td>\n",
       "      <td>0.006993</td>\n",
       "      <td>0.005358</td>\n",
       "      <td>0.001871</td>\n",
       "      <td>0.000000</td>\n",
       "      <td>recurrence</td>\n",
       "      <td>0.193953</td>\n",
       "      <td>0.000251</td>\n",
       "      <td>0.639882</td>\n",
       "      <td>0.000974</td>\n",
       "      <td>0.145673</td>\n",
       "    </tr>\n",
       "    <tr>\n",
       "      <th>X124.CD.NI.ileum.WashU</th>\n",
       "      <td>0</td>\n",
       "      <td>0</td>\n",
       "      <td>0</td>\n",
       "      <td>0</td>\n",
       "      <td>0</td>\n",
       "      <td>0.0</td>\n",
       "      <td>0</td>\n",
       "      <td>0.222174</td>\n",
       "      <td>0</td>\n",
       "      <td>0.0</td>\n",
       "      <td>...</td>\n",
       "      <td>0.000000</td>\n",
       "      <td>0.078829</td>\n",
       "      <td>0.001557</td>\n",
       "      <td>0.028114</td>\n",
       "      <td>recurrence</td>\n",
       "      <td>0.001532</td>\n",
       "      <td>0.006649</td>\n",
       "      <td>0.078479</td>\n",
       "      <td>0.000419</td>\n",
       "      <td>0.901949</td>\n",
       "    </tr>\n",
       "    <tr>\n",
       "      <th>X1276.CD.NI.ileum.WashU</th>\n",
       "      <td>0</td>\n",
       "      <td>0</td>\n",
       "      <td>0</td>\n",
       "      <td>0</td>\n",
       "      <td>0</td>\n",
       "      <td>0.0</td>\n",
       "      <td>0</td>\n",
       "      <td>0.000000</td>\n",
       "      <td>0</td>\n",
       "      <td>0.0</td>\n",
       "      <td>...</td>\n",
       "      <td>0.020979</td>\n",
       "      <td>0.143594</td>\n",
       "      <td>0.000942</td>\n",
       "      <td>0.108471</td>\n",
       "      <td>no recurrence</td>\n",
       "      <td>0.007719</td>\n",
       "      <td>0.130694</td>\n",
       "      <td>0.131722</td>\n",
       "      <td>0.001932</td>\n",
       "      <td>0.724267</td>\n",
       "    </tr>\n",
       "    <tr>\n",
       "      <th>X1287.CD.NI.ileum.WashU</th>\n",
       "      <td>1</td>\n",
       "      <td>0</td>\n",
       "      <td>0</td>\n",
       "      <td>0</td>\n",
       "      <td>0</td>\n",
       "      <td>0.0</td>\n",
       "      <td>0</td>\n",
       "      <td>0.000000</td>\n",
       "      <td>0</td>\n",
       "      <td>0.0</td>\n",
       "      <td>...</td>\n",
       "      <td>0.000000</td>\n",
       "      <td>0.137488</td>\n",
       "      <td>0.000151</td>\n",
       "      <td>0.031010</td>\n",
       "      <td>recurrence</td>\n",
       "      <td>0.000116</td>\n",
       "      <td>0.014527</td>\n",
       "      <td>0.011776</td>\n",
       "      <td>0.000116</td>\n",
       "      <td>0.973425</td>\n",
       "    </tr>\n",
       "    <tr>\n",
       "      <th>X129.CD.NI.ileum.UNC</th>\n",
       "      <td>0</td>\n",
       "      <td>0</td>\n",
       "      <td>0</td>\n",
       "      <td>0</td>\n",
       "      <td>0</td>\n",
       "      <td>0.0</td>\n",
       "      <td>0</td>\n",
       "      <td>0.011625</td>\n",
       "      <td>0</td>\n",
       "      <td>0.0</td>\n",
       "      <td>...</td>\n",
       "      <td>0.024476</td>\n",
       "      <td>0.007761</td>\n",
       "      <td>0.000000</td>\n",
       "      <td>0.155682</td>\n",
       "      <td>no recurrence</td>\n",
       "      <td>0.011995</td>\n",
       "      <td>0.003438</td>\n",
       "      <td>0.021855</td>\n",
       "      <td>0.013971</td>\n",
       "      <td>0.938168</td>\n",
       "    </tr>\n",
       "  </tbody>\n",
       "</table>\n",
       "<p>5 rows × 13590 columns</p>\n",
       "</div>"
      ],
      "text/plain": [
       "                         Firmicutes.Clostridia.Clostridiales.Lachnospiraceae.Roseburia.Species_2  \\\n",
       "SampleID                                                                                           \n",
       "X1122.CD.NI.ileum.WashU                                                  0                         \n",
       "X124.CD.NI.ileum.WashU                                                   0                         \n",
       "X1276.CD.NI.ileum.WashU                                                  0                         \n",
       "X1287.CD.NI.ileum.WashU                                                  1                         \n",
       "X129.CD.NI.ileum.UNC                                                     0                         \n",
       "\n",
       "                         Firmicutes.Clostridia.Clostridiales.Lachnospiraceae.Roseburia.Species_3  \\\n",
       "SampleID                                                                                           \n",
       "X1122.CD.NI.ileum.WashU                                                  0                         \n",
       "X124.CD.NI.ileum.WashU                                                   0                         \n",
       "X1276.CD.NI.ileum.WashU                                                  0                         \n",
       "X1287.CD.NI.ileum.WashU                                                  0                         \n",
       "X129.CD.NI.ileum.UNC                                                     0                         \n",
       "\n",
       "                         Firmicutes.Clostridia.Clostridiales.Lachnospiraceae.Roseburia.Species_4  \\\n",
       "SampleID                                                                                           \n",
       "X1122.CD.NI.ileum.WashU                                                  0                         \n",
       "X124.CD.NI.ileum.WashU                                                   0                         \n",
       "X1276.CD.NI.ileum.WashU                                                  0                         \n",
       "X1287.CD.NI.ileum.WashU                                                  0                         \n",
       "X129.CD.NI.ileum.UNC                                                     0                         \n",
       "\n",
       "                         Firmicutes.Clostridia.Clostridiales.Lachnospiraceae.Roseburia.Species_6  \\\n",
       "SampleID                                                                                           \n",
       "X1122.CD.NI.ileum.WashU                                                  0                         \n",
       "X124.CD.NI.ileum.WashU                                                   0                         \n",
       "X1276.CD.NI.ileum.WashU                                                  0                         \n",
       "X1287.CD.NI.ileum.WashU                                                  0                         \n",
       "X129.CD.NI.ileum.UNC                                                     0                         \n",
       "\n",
       "                         Firmicutes.Clostridia.Clostridiales.Lachnospiraceae.Roseburia.Species_7  \\\n",
       "SampleID                                                                                           \n",
       "X1122.CD.NI.ileum.WashU                                                  0                         \n",
       "X124.CD.NI.ileum.WashU                                                   0                         \n",
       "X1276.CD.NI.ileum.WashU                                                  0                         \n",
       "X1287.CD.NI.ileum.WashU                                                  0                         \n",
       "X129.CD.NI.ileum.UNC                                                     0                         \n",
       "\n",
       "                         Firmicutes.Clostridia.Clostridiales.Lachnospiraceae.Roseburia.Species_8  \\\n",
       "SampleID                                                                                           \n",
       "X1122.CD.NI.ileum.WashU                                                0.0                         \n",
       "X124.CD.NI.ileum.WashU                                                 0.0                         \n",
       "X1276.CD.NI.ileum.WashU                                                0.0                         \n",
       "X1287.CD.NI.ileum.WashU                                                0.0                         \n",
       "X129.CD.NI.ileum.UNC                                                   0.0                         \n",
       "\n",
       "                         Firmicutes.Clostridia.Clostridiales.Lachnospiraceae.Roseburia.Species_11  \\\n",
       "SampleID                                                                                            \n",
       "X1122.CD.NI.ileum.WashU                                                  0                          \n",
       "X124.CD.NI.ileum.WashU                                                   0                          \n",
       "X1276.CD.NI.ileum.WashU                                                  0                          \n",
       "X1287.CD.NI.ileum.WashU                                                  0                          \n",
       "X129.CD.NI.ileum.UNC                                                     0                          \n",
       "\n",
       "                         Firmicutes.Clostridia.Clostridiales.Lachnospiraceae.Roseburia.Species_14  \\\n",
       "SampleID                                                                                            \n",
       "X1122.CD.NI.ileum.WashU                                           0.000000                          \n",
       "X124.CD.NI.ileum.WashU                                            0.222174                          \n",
       "X1276.CD.NI.ileum.WashU                                           0.000000                          \n",
       "X1287.CD.NI.ileum.WashU                                           0.000000                          \n",
       "X129.CD.NI.ileum.UNC                                              0.011625                          \n",
       "\n",
       "                         Firmicutes.Clostridia.Clostridiales.Lachnospiraceae.Roseburia.Species_17  \\\n",
       "SampleID                                                                                            \n",
       "X1122.CD.NI.ileum.WashU                                                  0                          \n",
       "X124.CD.NI.ileum.WashU                                                   0                          \n",
       "X1276.CD.NI.ileum.WashU                                                  0                          \n",
       "X1287.CD.NI.ileum.WashU                                                  0                          \n",
       "X129.CD.NI.ileum.UNC                                                     0                          \n",
       "\n",
       "                         Firmicutes.Clostridia.Clostridiales.Lachnospiraceae.Roseburia.Species_23  \\\n",
       "SampleID                                                                                            \n",
       "X1122.CD.NI.ileum.WashU                                                0.0                          \n",
       "X124.CD.NI.ileum.WashU                                                 0.0                          \n",
       "X1276.CD.NI.ileum.WashU                                                0.0                          \n",
       "X1287.CD.NI.ileum.WashU                                                0.0                          \n",
       "X129.CD.NI.ileum.UNC                                                   0.0                          \n",
       "\n",
       "                                ...          Bacteroidetes.Flavobacteriia.1  \\\n",
       "SampleID                        ...                                           \n",
       "X1122.CD.NI.ileum.WashU         ...                                0.006993   \n",
       "X124.CD.NI.ileum.WashU          ...                                0.000000   \n",
       "X1276.CD.NI.ileum.WashU         ...                                0.020979   \n",
       "X1287.CD.NI.ileum.WashU         ...                                0.000000   \n",
       "X129.CD.NI.ileum.UNC            ...                                0.024476   \n",
       "\n",
       "                         Firmicutes.Negativicutes.1  \\\n",
       "SampleID                                              \n",
       "X1122.CD.NI.ileum.WashU                    0.005358   \n",
       "X124.CD.NI.ileum.WashU                     0.078829   \n",
       "X1276.CD.NI.ileum.WashU                    0.143594   \n",
       "X1287.CD.NI.ileum.WashU                    0.137488   \n",
       "X129.CD.NI.ileum.UNC                       0.007761   \n",
       "\n",
       "                         Fusobacteria.Fusobacteriia.1  \\\n",
       "SampleID                                                \n",
       "X1122.CD.NI.ileum.WashU                      0.001871   \n",
       "X124.CD.NI.ileum.WashU                       0.001557   \n",
       "X1276.CD.NI.ileum.WashU                      0.000942   \n",
       "X1287.CD.NI.ileum.WashU                      0.000151   \n",
       "X129.CD.NI.ileum.UNC                         0.000000   \n",
       "\n",
       "                         Firmicutes.Clostridia.1     Recurrence   Aerobic  \\\n",
       "SampleID                                                                    \n",
       "X1122.CD.NI.ileum.WashU                 0.000000     recurrence  0.193953   \n",
       "X124.CD.NI.ileum.WashU                  0.028114     recurrence  0.001532   \n",
       "X1276.CD.NI.ileum.WashU                 0.108471  no recurrence  0.007719   \n",
       "X1287.CD.NI.ileum.WashU                 0.031010     recurrence  0.000116   \n",
       "X129.CD.NI.ileum.UNC                    0.155682  no recurrence  0.011995   \n",
       "\n",
       "                         Anaerobic  Facultative Anaerobic Microaerophilic   \\\n",
       "SampleID                                                                     \n",
       "X1122.CD.NI.ileum.WashU   0.000251                                0.639882   \n",
       "X124.CD.NI.ileum.WashU    0.006649                                0.078479   \n",
       "X1276.CD.NI.ileum.WashU   0.130694                                0.131722   \n",
       "X1287.CD.NI.ileum.WashU   0.014527                                0.011776   \n",
       "X129.CD.NI.ileum.UNC      0.003438                                0.021855   \n",
       "\n",
       "                         Obligate Aerobic  Obligate Anaerobic  \n",
       "SampleID                                                       \n",
       "X1122.CD.NI.ileum.WashU          0.000974            0.145673  \n",
       "X124.CD.NI.ileum.WashU           0.000419            0.901949  \n",
       "X1276.CD.NI.ileum.WashU          0.001932            0.724267  \n",
       "X1287.CD.NI.ileum.WashU          0.000116            0.973425  \n",
       "X129.CD.NI.ileum.UNC             0.013971            0.938168  \n",
       "\n",
       "[5 rows x 13590 columns]"
      ]
     },
     "execution_count": 3,
     "metadata": {},
     "output_type": "execute_result"
    }
   ],
   "source": [
    "# preprocessing\n",
    "\n",
    "bacteria_data = bacteria_data.set_index('SampleID').drop(columns = ['Disease', 'Tissue', 'Region', 'Pathology', 'Subtype',\n",
    "                                                                    'Location', 'Behavior', 'SmokingStatus', 'X5_ASA', 'Steroids', \n",
    "                                                                    'Immunomodulators', 'TNF', 'Cohort'])\n",
    "bacteria_data.rename(columns = {'Recurrence2':'Recurrence'}, inplace = True) \n",
    "bacteria_data = bacteria_data.drop(bacteria_data[bacteria_data.Recurrence == ' '].index)\n",
    "\n",
    "print(bacteria_data.shape)\n",
    "bacteria_data[:5]"
   ]
  },
  {
   "cell_type": "code",
   "execution_count": 4,
   "metadata": {},
   "outputs": [],
   "source": [
    "bacteria_data['Recurrence'] = bacteria_data['Recurrence'].map({'recurrence': 1, 'no recurrence': 0})"
   ]
  },
  {
   "cell_type": "code",
   "execution_count": 22,
   "metadata": {},
   "outputs": [
    {
     "data": {
      "text/plain": [
       "<matplotlib.legend.Legend at 0x1d94c84aac8>"
      ]
     },
     "execution_count": 22,
     "metadata": {},
     "output_type": "execute_result"
    },
    {
     "data": {
      "image/png": "[encoded data removed]",
      "text/plain": [
       "<Figure size 432x288 with 1 Axes>"
      ]
     },
     "metadata": {
      "needs_background": "light"
     },
     "output_type": "display_data"
    }
   ],
   "source": [
    "plt.xticks([])\n",
    "plt.plot(bacteria_data[bacteria_data.Recurrence == 0]['Proteobacteria.Betaproteobacteria.Neisseriales.Neisseriaceae.Neisseria'])\n",
    "plt.plot(bacteria_data[bacteria_data.Recurrence == 1]['Proteobacteria.Betaproteobacteria.Neisseriales.Neisseriaceae.Neisseria'])\n",
    "plt.legend(labels = ['Non-recurrence', 'Recurrence'])"
   ]
  },
  {
   "cell_type": "code",
   "execution_count": 21,
   "metadata": {},
   "outputs": [
    {
     "data": {
      "text/plain": [
       "<matplotlib.legend.Legend at 0x1d94c143048>"
      ]
     },
     "execution_count": 21,
     "metadata": {},
     "output_type": "execute_result"
    },
    {
     "data": {
      "image/png": "[encoded data removed]",
      "text/plain": [
       "<Figure size 432x288 with 1 Axes>"
      ]
     },
     "metadata": {
      "needs_background": "light"
     },
     "output_type": "display_data"
    }
   ],
   "source": [
    "plt.xticks([])\n",
    "plt.plot(bacteria_data[bacteria_data.Recurrence == 0]['Firmicutes.Clostridia.Clostridiales.Peptostreptococcaceae.Clostridium_XI.difficile'])\n",
    "plt.plot(bacteria_data[bacteria_data.Recurrence == 1]['Firmicutes.Clostridia.Clostridiales.Peptostreptococcaceae.Clostridium_XI.difficile'])\n",
    "plt.legend(labels = ['Non-recurrence', 'Recurrence'])"
   ]
  },
  {
   "cell_type": "code",
   "execution_count": 14,
   "metadata": {},
   "outputs": [
    {
     "data": {
      "text/plain": [
       "[<matplotlib.lines.Line2D at 0x1d94a016da0>]"
      ]
     },
     "execution_count": 14,
     "metadata": {},
     "output_type": "execute_result"
    },
    {
     "data": {
      "image/png": "[encoded data removed]",
      "text/plain": [
       "<Figure size 432x288 with 1 Axes>"
      ]
     },
     "metadata": {
      "needs_background": "light"
     },
     "output_type": "display_data"
    }
   ],
   "source": [
    "plt.plot(bacteria_data[bacteria_data.Recurrence == 0]['Bacteroidetes.Bacteroidia.Bacteroidales.Porphyromonadaceae.Coprobacter'])\n",
    "plt.plot(bacteria_data[bacteria_data.Recurrence == 1]['Bacteroidetes.Bacteroidia.Bacteroidales.Porphyromonadaceae.Coprobacter'])"
   ]
  },
  {
   "cell_type": "code",
   "execution_count": 12,
   "metadata": {},
   "outputs": [
    {
     "data": {
      "text/plain": [
       "[<matplotlib.lines.Line2D at 0x1d949712780>]"
      ]
     },
     "execution_count": 12,
     "metadata": {},
     "output_type": "execute_result"
    },
    {
     "data": {
      "image/png": "[encoded data removed]",
      "text/plain": [
       "<Figure size 432x288 with 1 Axes>"
      ]
     },
     "metadata": {
      "needs_background": "light"
     },
     "output_type": "display_data"
    }
   ],
   "source": [
    "plt.plot(bacteria_data[bacteria_data.Recurrence == 0]['Bacteroidetes.Bacteroidia.Bacteroidales.Bacteroidaceae.Bacteroides.Species_19718'])\n",
    "plt.plot(bacteria_data[bacteria_data.Recurrence == 1]['Bacteroidetes.Bacteroidia.Bacteroidales.Bacteroidaceae.Bacteroides.Species_19718'])"
   ]
  },
  {
   "cell_type": "code",
   "execution_count": 15,
   "metadata": {},
   "outputs": [
    {
     "data": {
      "text/plain": [
       "[<matplotlib.lines.Line2D at 0x1d94a26c898>]"
      ]
     },
     "execution_count": 15,
     "metadata": {},
     "output_type": "execute_result"
    },
    {
     "data": {
      "image/png": "[encoded data removed]",
      "text/plain": [
       "<Figure size 432x288 with 1 Axes>"
      ]
     },
     "metadata": {
      "needs_background": "light"
     },
     "output_type": "display_data"
    }
   ],
   "source": [
    "plt.plot(bacteria_data[bacteria_data.Recurrence == 0][ 'Proteobacteria.Betaproteobacteria.Burkholderiales.Sutterellaceae.Sutterella.Species_14902'])\n",
    "plt.plot(bacteria_data[bacteria_data.Recurrence == 1][ 'Proteobacteria.Betaproteobacteria.Burkholderiales.Sutterellaceae.Sutterella.Species_14902'])"
   ]
  },
  {
   "cell_type": "markdown",
   "metadata": {},
   "source": [
    "# Function for Leave-oue-out Cross Validation"
   ]
  },
  {
   "cell_type": "code",
   "execution_count": 11,
   "metadata": {},
   "outputs": [],
   "source": [
    "feature_count = {}"
   ]
  },
  {
   "cell_type": "code",
   "execution_count": 6,
   "metadata": {},
   "outputs": [],
   "source": [
    "def leave_one_out_cv(data, filter_threshold, select_method, num_feature, svc_penalty):\n",
    "\n",
    "    ys_test = []\n",
    "    ys_predicted = []\n",
    "    dec_func = []\n",
    "    \n",
    "    for i in data.index.values:\n",
    "        \n",
    "        test_data = data.loc[i]\n",
    "        train_data = data.drop(index=i)\n",
    "        y_test = test_data['Recurrence']\n",
    "        X_test = test_data.drop(columns=['Recurrence'])\n",
    "        y_train = train_data['Recurrence']\n",
    "        X_train = train_data.drop(columns=['Recurrence'])\n",
    "        \n",
    "        # feature filtering\n",
    "        X_train = X_train.loc[:, (np.count_nonzero(X_train, axis=0) > filter_threshold)]\n",
    "\n",
    "        if select_method=='rfe':\n",
    "            # select with recursive feature elimination\n",
    "            selector = RFE(estimator=SVC(kernel='linear', C=1), n_features_to_select=num_feature, step=10).fit(X_train, y_train)\n",
    "        \n",
    "        elif select_method == 'logreg':\n",
    "            # select with model: logistic regression\n",
    "            selector = SelectFromModel(estimator=LogisticRegression(penalty='l1', solver='saga'), max_features=num_feature).fit(X_train, y_train)\n",
    "            \n",
    "        else:\n",
    "            # select with model: linear svc     \n",
    "            lsvc = LinearSVC(C=1, penalty='l1', dual=False)\n",
    "            selector = SelectFromModel(estimator=lsvc, max_features=num_feature).fit(X_train, y_train)\n",
    "\n",
    "        # selected features\n",
    "        selected_features = X_train.columns[selector.get_support()]\n",
    "        \n",
    "        # transform X_train and X_test\n",
    "        X_train = X_train[selected_features]\n",
    "        X_test = [X_test[selected_features]]\n",
    "        \n",
    "        # train the model \n",
    "        classifier = SVC(C=svc_penalty, kernel='linear').fit(X_train, y_train)\n",
    "\n",
    "        # make prediction\n",
    "        y_predicted = classifier.predict(X_test)\n",
    "            \n",
    "        # keep lists for y_test, y_predicted, prediction accuracy (T or F), and decision functions for every LOL test\n",
    "        ys_test.append(y_test)\n",
    "        ys_predicted.append(y_predicted)\n",
    "        dec_func.append(classifier.decision_function(X_test))\n",
    "            \n",
    "        # use a dictionary to keep the number of times a feature is selected   \n",
    "        for feature in selected_features:\n",
    "            if feature not in feature_count.keys():\n",
    "                feature_count[feature] = 0\n",
    "            feature_count[feature] += 1\n",
    "            \n",
    "    print('accuracy:', accuracy_score(ys_test, ys_predicted))\n",
    "    print('precision:', precision_score(ys_test, ys_predicted))\n",
    "    print('recall:', recall_score(ys_test, ys_predicted))\n",
    "        \n",
    "    plot_confusion_matrix(ys_test, ys_predicted, ['no recurrence','recurrence'])\n",
    "        \n",
    "    fpr, tpr, threhold = roc_curve(ys_test, dec_func, pos_label = 1)\n",
    "    plot_roc_curve(fpr, tpr)\n",
    "    print('Area under the roc curve:', roc_auc_score(ys_test, dec_func))\n",
    "    \n",
    "    return"
   ]
  },
  {
   "cell_type": "code",
   "execution_count": 20,
   "metadata": {},
   "outputs": [
    {
     "name": "stderr",
     "output_type": "stream",
     "text": [
      "C:\\Users\\Jennifer Chen\\Anaconda3\\lib\\site-packages\\sklearn\\svm\\_base.py:947: ConvergenceWarning: Liblinear failed to converge, increase the number of iterations.\n",
      "  \"the number of iterations.\", ConvergenceWarning)\n",
      "C:\\Users\\Jennifer Chen\\Anaconda3\\lib\\site-packages\\sklearn\\svm\\_base.py:947: ConvergenceWarning: Liblinear failed to converge, increase the number of iterations.\n",
      "  \"the number of iterations.\", ConvergenceWarning)\n",
      "C:\\Users\\Jennifer Chen\\Anaconda3\\lib\\site-packages\\sklearn\\svm\\_base.py:947: ConvergenceWarning: Liblinear failed to converge, increase the number of iterations.\n",
      "  \"the number of iterations.\", ConvergenceWarning)\n",
      "C:\\Users\\Jennifer Chen\\Anaconda3\\lib\\site-packages\\sklearn\\svm\\_base.py:947: ConvergenceWarning: Liblinear failed to converge, increase the number of iterations.\n",
      "  \"the number of iterations.\", ConvergenceWarning)\n",
      "C:\\Users\\Jennifer Chen\\Anaconda3\\lib\\site-packages\\sklearn\\svm\\_base.py:947: ConvergenceWarning: Liblinear failed to converge, increase the number of iterations.\n",
      "  \"the number of iterations.\", ConvergenceWarning)\n",
      "C:\\Users\\Jennifer Chen\\Anaconda3\\lib\\site-packages\\sklearn\\svm\\_base.py:947: ConvergenceWarning: Liblinear failed to converge, increase the number of iterations.\n",
      "  \"the number of iterations.\", ConvergenceWarning)\n",
      "C:\\Users\\Jennifer Chen\\Anaconda3\\lib\\site-packages\\sklearn\\svm\\_base.py:947: ConvergenceWarning: Liblinear failed to converge, increase the number of iterations.\n",
      "  \"the number of iterations.\", ConvergenceWarning)\n",
      "C:\\Users\\Jennifer Chen\\Anaconda3\\lib\\site-packages\\sklearn\\svm\\_base.py:947: ConvergenceWarning: Liblinear failed to converge, increase the number of iterations.\n",
      "  \"the number of iterations.\", ConvergenceWarning)\n",
      "C:\\Users\\Jennifer Chen\\Anaconda3\\lib\\site-packages\\sklearn\\svm\\_base.py:947: ConvergenceWarning: Liblinear failed to converge, increase the number of iterations.\n",
      "  \"the number of iterations.\", ConvergenceWarning)\n",
      "C:\\Users\\Jennifer Chen\\Anaconda3\\lib\\site-packages\\sklearn\\svm\\_base.py:947: ConvergenceWarning: Liblinear failed to converge, increase the number of iterations.\n",
      "  \"the number of iterations.\", ConvergenceWarning)\n",
      "C:\\Users\\Jennifer Chen\\Anaconda3\\lib\\site-packages\\sklearn\\svm\\_base.py:947: ConvergenceWarning: Liblinear failed to converge, increase the number of iterations.\n",
      "  \"the number of iterations.\", ConvergenceWarning)\n",
      "C:\\Users\\Jennifer Chen\\Anaconda3\\lib\\site-packages\\sklearn\\svm\\_base.py:947: ConvergenceWarning: Liblinear failed to converge, increase the number of iterations.\n",
      "  \"the number of iterations.\", ConvergenceWarning)\n",
      "C:\\Users\\Jennifer Chen\\Anaconda3\\lib\\site-packages\\sklearn\\svm\\_base.py:947: ConvergenceWarning: Liblinear failed to converge, increase the number of iterations.\n",
      "  \"the number of iterations.\", ConvergenceWarning)\n",
      "C:\\Users\\Jennifer Chen\\Anaconda3\\lib\\site-packages\\sklearn\\svm\\_base.py:947: ConvergenceWarning: Liblinear failed to converge, increase the number of iterations.\n",
      "  \"the number of iterations.\", ConvergenceWarning)\n",
      "C:\\Users\\Jennifer Chen\\Anaconda3\\lib\\site-packages\\sklearn\\svm\\_base.py:947: ConvergenceWarning: Liblinear failed to converge, increase the number of iterations.\n",
      "  \"the number of iterations.\", ConvergenceWarning)\n",
      "C:\\Users\\Jennifer Chen\\Anaconda3\\lib\\site-packages\\sklearn\\svm\\_base.py:947: ConvergenceWarning: Liblinear failed to converge, increase the number of iterations.\n",
      "  \"the number of iterations.\", ConvergenceWarning)\n",
      "C:\\Users\\Jennifer Chen\\Anaconda3\\lib\\site-packages\\sklearn\\svm\\_base.py:947: ConvergenceWarning: Liblinear failed to converge, increase the number of iterations.\n",
      "  \"the number of iterations.\", ConvergenceWarning)\n",
      "C:\\Users\\Jennifer Chen\\Anaconda3\\lib\\site-packages\\sklearn\\svm\\_base.py:947: ConvergenceWarning: Liblinear failed to converge, increase the number of iterations.\n",
      "  \"the number of iterations.\", ConvergenceWarning)\n",
      "C:\\Users\\Jennifer Chen\\Anaconda3\\lib\\site-packages\\sklearn\\svm\\_base.py:947: ConvergenceWarning: Liblinear failed to converge, increase the number of iterations.\n",
      "  \"the number of iterations.\", ConvergenceWarning)\n",
      "C:\\Users\\Jennifer Chen\\Anaconda3\\lib\\site-packages\\sklearn\\svm\\_base.py:947: ConvergenceWarning: Liblinear failed to converge, increase the number of iterations.\n",
      "  \"the number of iterations.\", ConvergenceWarning)\n",
      "C:\\Users\\Jennifer Chen\\Anaconda3\\lib\\site-packages\\sklearn\\svm\\_base.py:947: ConvergenceWarning: Liblinear failed to converge, increase the number of iterations.\n",
      "  \"the number of iterations.\", ConvergenceWarning)\n",
      "C:\\Users\\Jennifer Chen\\Anaconda3\\lib\\site-packages\\sklearn\\svm\\_base.py:947: ConvergenceWarning: Liblinear failed to converge, increase the number of iterations.\n",
      "  \"the number of iterations.\", ConvergenceWarning)\n",
      "C:\\Users\\Jennifer Chen\\Anaconda3\\lib\\site-packages\\sklearn\\svm\\_base.py:947: ConvergenceWarning: Liblinear failed to converge, increase the number of iterations.\n",
      "  \"the number of iterations.\", ConvergenceWarning)\n",
      "C:\\Users\\Jennifer Chen\\Anaconda3\\lib\\site-packages\\sklearn\\svm\\_base.py:947: ConvergenceWarning: Liblinear failed to converge, increase the number of iterations.\n",
      "  \"the number of iterations.\", ConvergenceWarning)\n",
      "C:\\Users\\Jennifer Chen\\Anaconda3\\lib\\site-packages\\sklearn\\svm\\_base.py:947: ConvergenceWarning: Liblinear failed to converge, increase the number of iterations.\n",
      "  \"the number of iterations.\", ConvergenceWarning)\n",
      "C:\\Users\\Jennifer Chen\\Anaconda3\\lib\\site-packages\\sklearn\\svm\\_base.py:947: ConvergenceWarning: Liblinear failed to converge, increase the number of iterations.\n",
      "  \"the number of iterations.\", ConvergenceWarning)\n",
      "C:\\Users\\Jennifer Chen\\Anaconda3\\lib\\site-packages\\sklearn\\svm\\_base.py:947: ConvergenceWarning: Liblinear failed to converge, increase the number of iterations.\n",
      "  \"the number of iterations.\", ConvergenceWarning)\n",
      "C:\\Users\\Jennifer Chen\\Anaconda3\\lib\\site-packages\\sklearn\\svm\\_base.py:947: ConvergenceWarning: Liblinear failed to converge, increase the number of iterations.\n",
      "  \"the number of iterations.\", ConvergenceWarning)\n",
      "C:\\Users\\Jennifer Chen\\Anaconda3\\lib\\site-packages\\sklearn\\svm\\_base.py:947: ConvergenceWarning: Liblinear failed to converge, increase the number of iterations.\n",
      "  \"the number of iterations.\", ConvergenceWarning)\n",
      "C:\\Users\\Jennifer Chen\\Anaconda3\\lib\\site-packages\\sklearn\\svm\\_base.py:947: ConvergenceWarning: Liblinear failed to converge, increase the number of iterations.\n",
      "  \"the number of iterations.\", ConvergenceWarning)\n",
      "C:\\Users\\Jennifer Chen\\Anaconda3\\lib\\site-packages\\sklearn\\svm\\_base.py:947: ConvergenceWarning: Liblinear failed to converge, increase the number of iterations.\n",
      "  \"the number of iterations.\", ConvergenceWarning)\n",
      "C:\\Users\\Jennifer Chen\\Anaconda3\\lib\\site-packages\\sklearn\\svm\\_base.py:947: ConvergenceWarning: Liblinear failed to converge, increase the number of iterations.\n",
      "  \"the number of iterations.\", ConvergenceWarning)\n",
      "C:\\Users\\Jennifer Chen\\Anaconda3\\lib\\site-packages\\sklearn\\svm\\_base.py:947: ConvergenceWarning: Liblinear failed to converge, increase the number of iterations.\n",
      "  \"the number of iterations.\", ConvergenceWarning)\n",
      "C:\\Users\\Jennifer Chen\\Anaconda3\\lib\\site-packages\\sklearn\\svm\\_base.py:947: ConvergenceWarning: Liblinear failed to converge, increase the number of iterations.\n",
      "  \"the number of iterations.\", ConvergenceWarning)\n"
     ]
    },
    {
     "name": "stdout",
     "output_type": "stream",
     "text": [
      "accuracy: 0.7023809523809523\n",
      "precision: 0.6470588235294118\n",
      "recall: 0.36666666666666664\n",
      "Area under the roc curve: 0.5641975308641974\n"
     ]
    },
    {
     "data": {
      "image/png": "[encoded data removed]",
      "text/plain": [
       "<Figure size 432x288 with 2 Axes>"
      ]
     },
     "metadata": {
      "needs_background": "light"
     },
     "output_type": "display_data"
    },
    {
     "data": {
      "image/png": "[encoded data removed]",
      "text/plain": [
       "<Figure size 360x360 with 1 Axes>"
      ]
     },
     "metadata": {
      "needs_background": "light"
     },
     "output_type": "display_data"
    }
   ],
   "source": [
    "feature_score = leave_one_out_cv(bacteria_data, filter_threshold=5, select_method='lsvc', num_feature=20, svc_penalty=10)"
   ]
  },
  {
   "cell_type": "code",
   "execution_count": 21,
   "metadata": {},
   "outputs": [
    {
     "data": {
      "text/plain": [
       "{'Firmicutes.Clostridia.Clostridiales.Peptostreptococcaceae.Clostridium_XI.difficile': 420,\n",
       " 'Proteobacteria.Betaproteobacteria.Neisseriales.Neisseriaceae.Neisseria': 419,\n",
       " 'Bacteroidetes.Bacteroidia.Bacteroidales.Porphyromonadaceae.Coprobacter.Species_19043': 374,\n",
       " 'Bacteroidetes.Bacteroidia.Bacteroidales.Porphyromonadaceae.Coprobacter': 374,\n",
       " 'Bacteroidetes.Bacteroidia.Bacteroidales.Bacteroidaceae.Bacteroides.Species_19718': 359,\n",
       " 'Firmicutes.Clostridia.Clostridiales.Clostridiales_Incertae_Sedis_XIII': 336,\n",
       " 'Bacteroidetes.Bacteroidia.Bacteroidales.Porphyromonadaceae.Parabacteroides.Species_18948': 329,\n",
       " 'Firmicutes.Clostridia.Clostridiales.Peptostreptococcaceae.Romboutsia.Species_23587': 326,\n",
       " 'Proteobacteria.Betaproteobacteria.Burkholderiales.Sutterellaceae.Sutterella.Species_14902': 322,\n",
       " 'Bacteroidetes.Bacteroidia.Bacteroidales.Porphyromonadaceae.Parabacteroides.Species_18978': 308,\n",
       " 'Firmicutes.Bacilli.Lactobacillales.Streptococcaceae.Streptococcus.constellatus': 285,\n",
       " 'Proteobacteria.Gammaproteobacteria.Pseudomonadales.Moraxellaceae.Acinetobacter.Species_14462': 252,\n",
       " 'Firmicutes.Clostridia.Clostridiales.Ruminococcaceae.Butyricicoccus': 252,\n",
       " 'Firmicutes.Clostridia.Clostridiales.Clostridiales_Incertae_Sedis_XI.Anaerococcus': 252,\n",
       " 'Firmicutes.Clostridia.Clostridiales.Peptostreptococcaceae.Romboutsia.Species_23639': 247,\n",
       " 'Firmicutes.Clostridia.Clostridiales.Lachnospiraceae.Clostridium_XlVa.Species_2207': 240,\n",
       " 'Firmicutes.Clostridia.Clostridiales.Lachnospiraceae.Clostridium_XlVa.Species_2306': 234,\n",
       " 'Actinobacteria.Actinobacteria.Actinomycetales.Propionibacteriaceae.Propionibacterium.Species_13407': 229,\n",
       " 'Firmicutes.Clostridia.Clostridiales.Ruminococcaceae.Clostridium_IV': 217,\n",
       " 'Actinobacteria.Actinobacteria.Rubrobacterales.Rubrobacteraceae.Rubrobacter': 198,\n",
       " 'Actinobacteria.Actinobacteria.Rubrobacterales.Rubrobacteraceae': 198,\n",
       " 'Actinobacteria.Actinobacteria.Rubrobacterales': 195,\n",
       " 'Firmicutes.Clostridia.Clostridiales.Clostridiaceae_1.Clostridium_sensu_stricto.butyricum': 166,\n",
       " 'Firmicutes.Clostridia.Clostridiales.Lachnospiraceae.Genus_4535.Species_4535': 165,\n",
       " 'Firmicutes.Bacilli.Lactobacillales.Streptococcaceae.Streptococcus.Species_8673': 165,\n",
       " 'Firmicutes.Clostridia.Clostridiales.Lachnospiraceae.Genus_4535': 165,\n",
       " 'Firmicutes.Clostridia.Clostridiales.Peptostreptococcaceae.Romboutsia.Species_23645': 164,\n",
       " 'Deinococcus-Thermus.Deinococci.Deinococcales.Deinococcaceae.Deinococcus': 164,\n",
       " 'Deinococcus-Thermus.Deinococci.Deinococcales.Deinococcaceae': 164,\n",
       " 'Firmicutes.Bacilli.Bacillales.Bacillaceae_1.Bacillus': 160,\n",
       " 'Firmicutes.Clostridia.Clostridiales.Ruminococcaceae.Butyricicoccus.Species_7646': 157,\n",
       " 'Bacteroidetes.Bacteroidia.Bacteroidales.Rikenellaceae.Alistipes.indistinctus': 156,\n",
       " 'Proteobacteria.Betaproteobacteria.Burkholderiales.Burkholderiaceae.Burkholderia.Species_15571': 134,\n",
       " 'Firmicutes.Clostridia.Clostridiales.Lachnospiraceae.Genus_24119.Species_24119': 111,\n",
       " 'Firmicutes.Clostridia.Clostridiales.Lachnospiraceae.Genus_24119': 110,\n",
       " 'Bacteroidetes.Bacteroidia.Bacteroidales.Bacteroidaceae.Bacteroides.Species_20706': 106,\n",
       " 'Firmicutes.Clostridia.Clostridiales.Lachnospiraceae.Clostridium_XlVa.Species_2053': 92,\n",
       " 'Firmicutes.Bacilli.Lactobacillales.Streptococcaceae.Streptococcus.Species_8621': 87,\n",
       " 'Proteobacteria.Betaproteobacteria.Hydrogenophilales.Hydrogenophilaceae.Tepidiphilus.succinatimandens': 85,\n",
       " 'Proteobacteria.Betaproteobacteria.Hydrogenophilales.Hydrogenophilaceae.Tepidiphilus': 85,\n",
       " 'Proteobacteria.Betaproteobacteria.Burkholderiales.Comamonadaceae.Comamonas.testosteroni': 82,\n",
       " 'Firmicutes.Clostridia.Clostridiales.Lachnospiraceae.Clostridium_XlVa.Species_26167': 82,\n",
       " 'Firmicutes.Clostridia.Clostridiales.Ruminococcaceae.Faecalibacterium.Species_4679': 81,\n",
       " 'Actinobacteria.Actinobacteria.Actinomycetales.Propionibacteriaceae.Genus_13349.Species_13349': 81,\n",
       " 'Proteobacteria.Alphaproteobacteria.Rhizobiales.Rhodobiaceae.Parvibaculum.lavamentivorans': 81,\n",
       " 'Proteobacteria.Alphaproteobacteria.Rhizobiales.Hyphomicrobiaceae.Hyphomicrobium.Species_14087': 81,\n",
       " 'Fusobacteria.Fusobacteriia.Fusobacteriales.Fusobacteriaceae.Fusobacterium.Species_22507': 81,\n",
       " 'Firmicutes.Clostridia.Clostridiales.Peptostreptococcaceae.Peptostreptococcus.Species_23677': 81,\n",
       " 'Actinobacteria.Actinobacteria.Actinomycetales.Propionibacteriaceae.Genus_13349': 81,\n",
       " 'Proteobacteria.Alphaproteobacteria.Rhizobiales.Rhodobiaceae.Parvibaculum': 81,\n",
       " 'Actinobacteria.Actinobacteria.Actinomycetales.Nocardioidaceae.Marmoricola': 80,\n",
       " 'Firmicutes.Bacilli.Lactobacillales.Lactobacillaceae.Lactobacillus.Species_8281': 80,\n",
       " 'Synergistetes.Synergistia.Synergistales.Synergistaceae.Fretibacterium': 78,\n",
       " 'Firmicutes.Clostridia.Clostridiales.Ruminococcaceae.Faecalibacterium.Species_5054': 78,\n",
       " 'Proteobacteria.Gammaproteobacteria.Enterobacteriales.Enterobacteriaceae.Escherichia/Shigella.Species_16564': 78,\n",
       " 'Proteobacteria.Alphaproteobacteria.Caulobacterales.Caulobacteraceae.Caulobacter': 78,\n",
       " 'Firmicutes.Bacilli.Lactobacillales.Streptococcaceae.Streptococcus.Species_9043': 70,\n",
       " 'Bacteroidetes.Bacteroidia.Bacteroidales.Prevotellaceae.Prevotella.histicola': 68,\n",
       " 'Firmicutes.Negativicutes.Selenomonadales.Acidaminococcaceae.Phascolarctobacterium.Species_22750': 54,\n",
       " 'Proteobacteria.Betaproteobacteria.Burkholderiales.Burkholderiaceae.Limnobacter': 54,\n",
       " 'Firmicutes.Bacilli.Lactobacillales.Enterococcaceae.Enterococcus.Species_9849': 51,\n",
       " 'Proteobacteria.Alphaproteobacteria.Caulobacterales.Caulobacteraceae.Caulobacter.endosymbiont': 45,\n",
       " 'Proteobacteria.Betaproteobacteria.Burkholderiales.Burkholderiaceae.Limnobacter.thiooxidans': 41,\n",
       " 'Bacteroidetes.Bacteroidia.Bacteroidales.Bacteroidaceae.Bacteroides.Species_19371': 37,\n",
       " 'Firmicutes.Clostridia.Clostridiales.Lachnospiraceae.Clostridium_XlVa.clostridioforme': 28,\n",
       " 'Bacteroidetes.Bacteroidia.Bacteroidales.Bacteroidaceae.Bacteroides.Species_19746': 25,\n",
       " 'Proteobacteria.Betaproteobacteria.Burkholderiales.Comamonadaceae.Acidovorax.Species_15145': 23,\n",
       " 'Proteobacteria.Gammaproteobacteria.Pseudomonadales.Pseudomonadaceae.Pseudomonas.stutzeri': 21,\n",
       " 'Proteobacteria.Alphaproteobacteria.Rhizobiales.Bradyrhizobiaceae.Bradyrhizobium.Species_13994': 15,\n",
       " 'Firmicutes.Clostridia.Clostridiales.Lachnospiraceae.Clostridium_XlVa.Species_2182': 14,\n",
       " 'Actinobacteria.Actinobacteria.Actinomycetales.Actinomycetaceae.Actinomyces.odontolyticus': 12,\n",
       " 'Firmicutes.Clostridia.Clostridiales.Ruminococcaceae.Anaerotruncus.Species_5226': 12,\n",
       " 'Actinobacteria.Actinobacteria.Actinomycetales.Cellulomonadaceae': 11,\n",
       " 'Firmicutes.Clostridia.Clostridiales.Peptostreptococcaceae.Romboutsia.Species_23565': 11,\n",
       " 'Actinobacteria.Actinobacteria.Coriobacteriales.Coriobacteriaceae.Eggerthella': 11,\n",
       " 'Firmicutes.Clostridia.Clostridiales.Lachnospiraceae.Clostridium_XlVa.Species_2623': 11,\n",
       " 'Bacteroidetes.Bacteroidia.Bacteroidales.Porphyromonadaceae.Barnesiella.Species_20818': 9,\n",
       " 'Firmicutes.Clostridia.Clostridiales.Lachnospiraceae.Ruminococcus2.Species_26547': 8,\n",
       " 'Firmicutes.Clostridia.Clostridiales.Lachnospiraceae.Eisenbergiella.Species_4200': 6,\n",
       " 'Firmicutes.Clostridia.Clostridiales.Lachnospiraceae.Blautia.Species_493': 6,\n",
       " 'Bacteroidetes.Bacteroidia.Bacteroidales.Bacteroidaceae.Bacteroides.Species_19899': 6,\n",
       " 'Bacteroidetes.Bacteroidia.Bacteroidales.Bacteroidaceae.Bacteroides.cellulosilyticus': 6,\n",
       " 'Proteobacteria.Betaproteobacteria.Burkholderiales.Sutterellaceae.Sutterella': 5,\n",
       " 'Firmicutes.Clostridia.Clostridiales.Clostridiaceae_1.Clostridium_sensu_stricto.Species_23069': 5,\n",
       " 'Firmicutes.Clostridia.Clostridiales.Lachnospiraceae.Genus_55': 5,\n",
       " 'Bacteroidetes.Bacteroidia.Bacteroidales.Bacteroidaceae.Bacteroides.Species_19917': 4,\n",
       " 'Firmicutes.Clostridia.Clostridiales.Lachnospiraceae.Clostridium_XlVa.Species_2137': 4,\n",
       " 'Proteobacteria.Gammaproteobacteria.Enterobacteriales.Enterobacteriaceae.Yersinia.Species_16765': 4,\n",
       " 'Candidatus_Saccharibacteria.NA.NA.NA.Genus_17978.Species_17978': 4,\n",
       " 'Candidatus_Saccharibacteria.NA.NA.NA.Genus_17978': 4,\n",
       " 'Firmicutes.Clostridia.Clostridiales.Lachnospiraceae.Genus_55.Species_55': 4,\n",
       " 'Firmicutes.Clostridia.Clostridiales.Lachnospiraceae.Clostridium_XlVa.Species_2613': 3,\n",
       " 'Firmicutes.Clostridia.Clostridiales.Ruminococcaceae.Ethanoligenens': 3,\n",
       " 'Firmicutes.Clostridia.Clostridiales.Peptostreptococcaceae.Romboutsia': 3,\n",
       " 'Firmicutes.Clostridia.Clostridiales.Lachnospiraceae.Clostridium_XlVa.Species_2657': 3,\n",
       " 'Proteobacteria.Epsilonproteobacteria.Campylobacterales.Campylobacteraceae': 3,\n",
       " 'Bacteroidetes.Flavobacteriia.Flavobacteriales.Flavobacteriaceae.Cloacibacterium.Species_21424': 3,\n",
       " 'Firmicutes.Negativicutes.Selenomonadales.Acidaminococcaceae.Acidaminococcus.intestini': 2,\n",
       " 'Actinobacteria.Actinobacteria.Coriobacteriales.Coriobacteriaceae.Olsenella': 2,\n",
       " 'Firmicutes.Bacilli.Lactobacillales.Enterococcaceae.Enterococcus.Species_9906': 1,\n",
       " 'Proteobacteria.Betaproteobacteria.Hydrogenophilales.Hydrogenophilaceae.Hydrogenophilus.Species_15719': 1,\n",
       " 'Firmicutes.Bacilli.Lactobacillales.Streptococcaceae.Streptococcus.Species_9228': 1,\n",
       " 'Proteobacteria.Gammaproteobacteria.Enterobacteriales.Enterobacteriaceae.Yersinia.Species_16742': 1,\n",
       " 'Actinobacteria.Actinobacteria.Actinomycetales.Micrococcaceae.Kocuria': 1,\n",
       " 'Actinobacteria.Actinobacteria.Rubrobacterales.Rubrobacteraceae.Rubrobacter.Species_11695': 1,\n",
       " 'Firmicutes.Clostridia.Clostridiales.Lachnospiraceae.Clostridium_XlVb.Species_23959': 1,\n",
       " 'Firmicutes.Clostridia.Clostridiales.Lachnospiraceae.Dorea.Species_26410': 1,\n",
       " 'Proteobacteria.Betaproteobacteria.Hydrogenophilales.Hydrogenophilaceae': 1,\n",
       " 'Proteobacteria.Betaproteobacteria.Hydrogenophilales': 1,\n",
       " 'Firmicutes.Clostridia.Clostridiales.Lachnospiraceae.Clostridium_XlVa.Species_1690': 1,\n",
       " 'Firmicutes.Clostridia.Clostridiales.Lachnospiraceae.Clostridium_XlVa.Species_3559': 1,\n",
       " 'Proteobacteria.Alphaproteobacteria.Caulobacterales.Caulobacteraceae.Caulobacter.Species_13785': 1,\n",
       " 'Firmicutes.Clostridia.Clostridiales.Lachnospiraceae.Fusicatenibacter.Species_389': 1,\n",
       " 'Proteobacteria.Alphaproteobacteria.Caulobacterales.Caulobacteraceae.Caulobacter.Species_13833': 1,\n",
       " 'Firmicutes.Clostridia.Clostridiales.Lachnospiraceae.Ruminococcus2.Species_26529': 1,\n",
       " 'Firmicutes.Clostridia.Clostridiales.Peptoniphilaceae.Peptoniphilus': 1,\n",
       " 'Proteobacteria.Alphaproteobacteria.Rhizobiales.Bradyrhizobiaceae.Bradyrhizobium.Species_14012': 1,\n",
       " 'Firmicutes.Bacilli.Lactobacillales.Streptococcaceae.Streptococcus.Species_8557': 1,\n",
       " 'Firmicutes.Clostridia.Clostridiales.Ruminococcaceae.Faecalibacterium.Species_4928': 1,\n",
       " 'Firmicutes.Clostridia.Clostridiales.Lachnospiraceae.Genus_25458.Species_25458': 1}"
      ]
     },
     "execution_count": 21,
     "metadata": {},
     "output_type": "execute_result"
    }
   ],
   "source": [
    "feature_count_copy = feature_count\n",
    "{feature_count_copy: v for feature_count_copy, v in sorted(feature_count_copy.items(), key=lambda item: item[1], reverse=True)}"
   ]
  },
  {
   "cell_type": "code",
   "execution_count": 43,
   "metadata": {},
   "outputs": [
    {
     "data": {
      "text/plain": [
       "Text(0,0.5,'Times selected')"
      ]
     },
     "execution_count": 43,
     "metadata": {},
     "output_type": "execute_result"
    },
    {
     "data": {
      "image/png": "[encoded data removed]",
      "text/plain": [
       "<Figure size 432x288 with 1 Axes>"
      ]
     },
     "metadata": {
      "needs_background": "light"
     },
     "output_type": "display_data"
    }
   ],
   "source": [
    "counts = list(feature_count.values())\n",
    "plt.plot(sorted(counts, reverse=True))\n",
    "plt.xlabel('Features')\n",
    "plt.ylabel('Times selected')"
   ]
  },
  {
   "cell_type": "code",
   "execution_count": 8,
   "metadata": {},
   "outputs": [],
   "source": [
    "# Helper functions\n",
    "\n",
    "def plot_confusion_matrix(y_true, y_pred, classes, normalize=False, title=None, cmap=plt.cm.Blues):\n",
    "\n",
    "    cm = confusion_matrix(y_true, y_pred)\n",
    "\n",
    "    fig, ax = plt.subplots()\n",
    "    im = ax.imshow(cm, interpolation='nearest', cmap=cmap)\n",
    "    ax.figure.colorbar(im, ax=ax)\n",
    "    ax.set(xticks=np.arange(cm.shape[1]),\n",
    "           yticks=np.arange(cm.shape[0]),\n",
    "           xticklabels=classes, yticklabels=classes,\n",
    "           title=title,\n",
    "           ylabel='True label',\n",
    "           xlabel='Predicted label')\n",
    "\n",
    "    plt.setp(ax.get_xticklabels(), rotation=45, ha=\"right\",\n",
    "             rotation_mode=\"anchor\")\n",
    "\n",
    "    fmt = '.2f' if normalize else 'd'\n",
    "    thresh = cm.max() / 2.\n",
    "    for i in range(cm.shape[0]):\n",
    "        for j in range(cm.shape[1]):\n",
    "            ax.text(j, i, format(cm[i, j], fmt),\n",
    "                    ha=\"center\", va=\"center\",\n",
    "                    color=\"white\" if cm[i, j] > thresh else \"black\")\n",
    "    fig.tight_layout()\n",
    "    return ax\n",
    "\n",
    "def plot_roc_curve(fpr, tpr, label=None):\n",
    "    plt.figure(figsize=(5,5))\n",
    "    plt.title('ROC Curve')\n",
    "    plt.plot(fpr, tpr, linewidth=2, label=label)\n",
    "    plt.plot([0, 1], [0, 1], 'k--')\n",
    "    plt.axis([-0.005, 1, 0, 1.005])\n",
    "    plt.xticks(np.arange(0,1, 0.05), rotation=90)\n",
    "    plt.xlabel(\"False Positive Rate\")\n",
    "    plt.ylabel(\"True Positive Rate (Recall)\")"
   ]
  },
  {
   "cell_type": "code",
   "execution_count": null,
   "metadata": {},
   "outputs": [],
   "source": []
  }
 ],
 "metadata": {
  "kernelspec": {
   "display_name": "Python 3",
   "language": "python",
   "name": "python3"
  },
  "language_info": {
   "codemirror_mode": {
    "name": "ipython",
    "version": 3
   },
   "file_extension": ".py",
   "mimetype": "text/x-python",
   "name": "python",
   "nbconvert_exporter": "python",
   "pygments_lexer": "ipython3",
   "version": "3.7.0"
  }
 },
 "nbformat": 4,
 "nbformat_minor": 2
}
